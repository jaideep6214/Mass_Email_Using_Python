{
  "nbformat": 4,
  "nbformat_minor": 0,
  "metadata": {
    "colab": {
      "name": "Mass_Mail.ipynb",
      "provenance": [],
      "collapsed_sections": [],
      "authorship_tag": "ABX9TyM5JnHJP9D+dCcs4jQhaFsa",
      "include_colab_link": true
    },
    "kernelspec": {
      "name": "python3",
      "display_name": "Python 3"
    },
    "language_info": {
      "name": "python"
    }
  },
  "cells": [
    {
      "cell_type": "markdown",
      "metadata": {
        "id": "view-in-github",
        "colab_type": "text"
      },
      "source": [
        "<a href=\"https://colab.research.google.com/github/jaideep6214/Mass_Email_Using_Python/blob/main/Mass_Mail.ipynb\" target=\"_parent\"><img src=\"https://colab.research.google.com/assets/colab-badge.svg\" alt=\"Open In Colab\"/></a>"
      ]
    },
    {
      "cell_type": "code",
      "source": [
        "from google.colab import drive\n",
        "drive.mount('/content/gdrive')"
      ],
      "metadata": {
        "id": "PDDVg8qpiPf8"
      },
      "execution_count": null,
      "outputs": []
    },
    {
      "cell_type": "code",
      "execution_count": null,
      "metadata": {
        "id": "wmpqgevIiLXh"
      },
      "outputs": [],
      "source": [
        "import smtplib\n",
        "from email.mime.multipart import MIMEMultipart\n",
        "from email.mime.text import MIMEText\n",
        "from email.mime.base import MIMEBase\n",
        "from email import encoders\n",
        "import pandas as pd\n",
        "mail_content = '''Dear Sir/Madam,\n",
        "\n",
        "I am happy to share your certificate .............................................................................. \n",
        "\n",
        "Thanks\n",
        "\n",
        "'''\n",
        "#The mail addresses and password\n",
        "\n",
        "sender_address = 'your_username@gmail.com'\n",
        "sender_pass = 'password'\n",
        "\n",
        "df=pd.read_excel(\"/content/gdrive/My Drive/email.xlsx\",header=None)\n",
        "\n",
        "email_list=list(df.iloc[:,7])  #7th Column have email address\n",
        "\n",
        "for i in range (1,42):  #42 people\n",
        "  # To open Workbook\n",
        "  receiver_address = email_list[i-1]\n",
        "  #Setup the MIME\n",
        "  message = MIMEMultipart()\n",
        "  message['From'] = sender_address\n",
        "  message['To'] = receiver_address\n",
        "  message['Subject'] = 'MDP Certificate.'\n",
        "  message.attach(MIMEText(mail_content, 'plain'))\n",
        "  attach_file_name='/content/gdrive/My Drive/certificates/'+str(i)+\"-certicate.pdf\"\n",
        "  attach_file = open(attach_file_name, 'rb') # Open the file as binary mode\n",
        "  payload = MIMEBase('application', 'octate-stream')\n",
        "  payload.set_payload((attach_file).read())\n",
        "  encoders.encode_base64(payload) #encode the attachment\n",
        "  #add payload header with filename\n",
        "  payload.add_header('Content-Decomposition', 'attachment', filename=attach_file_name)\n",
        "  message.attach(payload)\n",
        "  #Create SMTP session for sending the mail\n",
        "  session = smtplib.SMTP('smtp.gmail.com', 587) #use gmail with port\n",
        "  session.starttls() #enable security\n",
        "  session.login(sender_address, sender_pass) #login with mail_id and password\n",
        "  text = message.as_string()\n",
        "+  session.sendmail(sender_address, receiver_address, text)\n",
        "  session.quit()\n",
        "  print('Mail Sent')"
      ]
    }
  ]
}